{
 "cells": [
  {
   "cell_type": "code",
   "execution_count": 1,
   "metadata": {},
   "outputs": [
    {
     "name": "stdout",
     "output_type": "stream",
     "text": [
      "Collecting jsonpath-ng\n",
      "  Downloading jsonpath-ng-1.7.0.tar.gz (37 kB)\n",
      "  Installing build dependencies: started\n",
      "  Installing build dependencies: finished with status 'done'\n",
      "  Getting requirements to build wheel: started\n",
      "  Getting requirements to build wheel: finished with status 'done'\n",
      "  Preparing metadata (pyproject.toml): started\n",
      "  Preparing metadata (pyproject.toml): finished with status 'done'\n",
      "Collecting ply (from jsonpath-ng)\n",
      "  Downloading ply-3.11-py2.py3-none-any.whl.metadata (844 bytes)\n",
      "Downloading ply-3.11-py2.py3-none-any.whl (49 kB)\n",
      "Building wheels for collected packages: jsonpath-ng\n",
      "  Building wheel for jsonpath-ng (pyproject.toml): started\n",
      "  Building wheel for jsonpath-ng (pyproject.toml): finished with status 'done'\n",
      "  Created wheel for jsonpath-ng: filename=jsonpath_ng-1.7.0-py3-none-any.whl size=30158 sha256=9775abcd31e9aa1ef9997460d17f641184c6db72a0b5cb0ca29b245901bb7d26\n",
      "  Stored in directory: c:\\users\\chirag chawla\\appdata\\local\\pip\\cache\\wheels\\7a\\0c\\fa\\d549fbdb6b9a80b56efd0144b02a4adffeee1ba859fe4147e1\n",
      "Successfully built jsonpath-ng\n",
      "Installing collected packages: ply, jsonpath-ng\n",
      "Successfully installed jsonpath-ng-1.7.0 ply-3.11\n"
     ]
    }
   ],
   "source": [
    "pip install jsonpath-ng"
   ]
  },
  {
   "cell_type": "code",
   "execution_count": 2,
   "metadata": {},
   "outputs": [],
   "source": [
    "\n",
    "!pip install -q llama-index\n",
    "!pip install -q openai\n",
    "!pip install -q transformers\n",
    "!pip install -q accelerate"
   ]
  },
  {
   "cell_type": "code",
   "execution_count": 16,
   "metadata": {},
   "outputs": [],
   "source": [
    "\n",
    "import os\n",
    "import openai\n",
    "\n",
    "os.environ[\"OPENAI_API_KEY\"] = \"your_api_key\"\n",
    "openai.api_key = os.environ[\"OPENAI_API_KEY\"]"
   ]
  },
  {
   "cell_type": "code",
   "execution_count": 11,
   "metadata": {},
   "outputs": [],
   "source": [
    "schema_filepath = r\"C:\\Users\\CHIRAG CHAWLA\\Documents\\SOP-Assistant-required_json\\SOP-Assistant-required_json\\required_master.json\"\n",
    "json_filepath = r\"C:\\Users\\CHIRAG CHAWLA\\Documents\\SOP-Assistant-required_json\\SOP-Assistant-required_json\\Lorazepam.json\"\n"
   ]
  },
  {
   "cell_type": "code",
   "execution_count": 13,
   "metadata": {},
   "outputs": [],
   "source": [
    "import json"
   ]
  },
  {
   "cell_type": "code",
   "execution_count": 14,
   "metadata": {},
   "outputs": [],
   "source": [
    "\n",
    "# Read the JSON file\n",
    "with open(json_filepath, 'r') as json_file:\n",
    "    json_value = json.load(json_file)"
   ]
  },
  {
   "cell_type": "code",
   "execution_count": 8,
   "metadata": {},
   "outputs": [
    {
     "name": "stdout",
     "output_type": "stream",
     "text": [
      "c:\\Users\\CHIRAG CHAWLA\\Documents\\SOP-Assistant-required_json\\SOP-Assistant-required_json\n"
     ]
    }
   ],
   "source": [
    "import os\n",
    "print(os.getcwd())\n"
   ]
  },
  {
   "cell_type": "code",
   "execution_count": 15,
   "metadata": {},
   "outputs": [],
   "source": [
    "\n",
    "# Read the schema file\n",
    "with open(schema_filepath, 'r') as schema_file:\n",
    "    json_schema = json.load(schema_file)"
   ]
  },
  {
   "cell_type": "code",
   "execution_count": 17,
   "metadata": {},
   "outputs": [],
   "source": [
    "from llama_index.llms.openai import OpenAI\n",
    "from llama_index.core.indices.struct_store import JSONQueryEngine\n",
    "\n",
    "llm = OpenAI(model=\"gpt-4\")\n",
    "\n",
    "nl_query_engine = JSONQueryEngine(\n",
    "    json_value=json_value,\n",
    "    json_schema=json_schema,\n",
    "    llm=llm,\n",
    ")\n",
    "raw_query_engine = JSONQueryEngine(\n",
    "    json_value=json_value,\n",
    "    json_schema=json_schema,\n",
    "    llm=llm,\n",
    "    synthesize_response=False,\n",
    ")"
   ]
  },
  {
   "cell_type": "code",
   "execution_count": 18,
   "metadata": {},
   "outputs": [],
   "source": [
    "nl_response = nl_query_engine.query(\n",
    "    \"procedure of lorazepam?\",\n",
    ")\n"
   ]
  },
  {
   "cell_type": "code",
   "execution_count": 19,
   "metadata": {},
   "outputs": [],
   "source": [
    "from IPython.display import Markdown, display"
   ]
  },
  {
   "cell_type": "code",
   "execution_count": 20,
   "metadata": {},
   "outputs": [
    {
     "data": {
      "text/markdown": [
       "Natural language ResponseThe procedure for preparing Lorazepam involves the following steps:\n",
       "\n",
       "1. Using a glass mortar and pestle, triturate Lorazepam, Diphenhydramine Hydrochloride, Haloperidol, and Metoclopramide Hydrochloride together. Add Propylene Glycol and mix well.\n",
       "2. Add PCCA PermE8 Anhydrous Gel Base to Step 1 in portions and mix well. Use an amount that is approximately 60% of the final volume. For example, if the final volume is 10 mL, use 6 mL of PCCA PermE8 Anhydrous Gel Base.\n",
       "3. Remove the plunger from a Baxter Exacta-Med 10 mL Oral/Topical Syringe, then transfer the Step 2 mixture into the barrel. Replace the plunger into the barrel, and holding syringe upright, slowly push up the plunger, allowing the air to escape. Measure the volume in the syringe and calculate how much PCCA PermE8 Anhydrous Gel Base is needed to bring to the final volume.\n",
       "4. In a separate Baxter Exacta-Med 10 mL Oral/Topical Syringe, add the required amount of PCCA PermE8 Anhydrous Gel Base.\n",
       "5. Connect the syringe in Step 4 to the syringe in Step 3 using an Oral/Oral Adapter.\n",
       "6. Mix Step 5 back and forth from syringe-to-syringe until a uniform mixture is formed.\n",
       "7. Dispense the Step 6 final preparation in Baxter Exacta-Med Amber 1 mL Oral/Topical Syringes.\n",
       "8. The final preparation is an off-white to pale beige gel."
      ],
      "text/plain": [
       "<IPython.core.display.Markdown object>"
      ]
     },
     "metadata": {},
     "output_type": "display_data"
    }
   ],
   "source": [
    "\n",
    "display(Markdown(f\"Natural language Response{nl_response}\"))"
   ]
  },
  {
   "cell_type": "code",
   "execution_count": 23,
   "metadata": {},
   "outputs": [],
   "source": [
    "nl_response = nl_query_engine.query(\n",
    "    \"Explain me the notes\",\n",
    ")"
   ]
  },
  {
   "cell_type": "code",
   "execution_count": 24,
   "metadata": {},
   "outputs": [
    {
     "data": {
      "text/markdown": [
       "Natural language ResponseThe notes include several important points: \n",
       "\n",
       "1. The final product should be protected from light.\n",
       "2. It should be stored in an air-tight, light-resistant container.\n",
       "3. The storage temperature should be a controlled room temperature of 20°-25°C.\n",
       "4. Lorazepam is incompatible with certain types of plastics such as PVC.\n",
       "5. Proper Controlled Substance Records should be kept.\n",
       "6. For compounded preparations, USP standards dictate that the intended strength must be +/-10% of the labeled API strength.\n",
       "7. No claims are made as to the safety or efficacy of this preparation.\n",
       "8. The maximum Beyond-Use Date (BUD) after compounding is estimated to be 180 days.\n",
       "9. This formula has been tested in the PCCA Lab using only PCCA chemicals and proprietary bases. Any variations to this formulation may affect physical integrity, solubility, or result in potency or content uniformity issues."
      ],
      "text/plain": [
       "<IPython.core.display.Markdown object>"
      ]
     },
     "metadata": {},
     "output_type": "display_data"
    }
   ],
   "source": [
    "\n",
    "display(Markdown(f\"Natural language Response{nl_response}\"))"
   ]
  },
  {
   "cell_type": "code",
   "execution_count": 25,
   "metadata": {},
   "outputs": [],
   "source": [
    "nl_response = nl_query_engine.query(\n",
    "    \"procedure step no 2 of lorazepam?\",\n",
    ")\n"
   ]
  },
  {
   "cell_type": "code",
   "execution_count": 26,
   "metadata": {},
   "outputs": [
    {
     "data": {
      "text/markdown": [
       "Natural language ResponseThe second step in the procedure of making Lorazepam involves adding PCCA PermE8 Anhydrous Gel Base to Step 1 in portions and mixing well. Use an amount that is approximately 60% of the final volume. For example, if the final volume is 10 mL, use 6 mL of PCCA PermE8 Anhydrous Gel Base."
      ],
      "text/plain": [
       "<IPython.core.display.Markdown object>"
      ]
     },
     "metadata": {},
     "output_type": "display_data"
    },
    {
     "ename": "",
     "evalue": "",
     "output_type": "error",
     "traceback": [
      "\u001b[1;31mThe Kernel crashed while executing code in the current cell or a previous cell. \n",
      "\u001b[1;31mPlease review the code in the cell(s) to identify a possible cause of the failure. \n",
      "\u001b[1;31mClick <a href='https://aka.ms/vscodeJupyterKernelCrash'>here</a> for more info. \n",
      "\u001b[1;31mView Jupyter <a href='command:jupyter.viewOutput'>log</a> for further details."
     ]
    }
   ],
   "source": [
    "\n",
    "display(Markdown(f\"Natural language Response{nl_response}\"))"
   ]
  },
  {
   "cell_type": "code",
   "execution_count": 1,
   "metadata": {},
   "outputs": [],
   "source": [
    "from langchain.prompts import ChatPromptTemplate\n",
    "\n",
    "from langchain_community.vectorstores import Chroma\n",
    "from langchain_community.document_loaders import JSONLoader\n",
    "from langchain_community.embeddings import OpenAIEmbeddings\n",
    "\n",
    "from langchain_core.output_parsers import StrOutputParser\n",
    "from langchain_core.runnables import RunnableLambda, RunnablePassthrough\n",
    "\n",
    "from langchain_openai import ChatOpenAI, OpenAIEmbeddings"
   ]
  },
  {
   "cell_type": "code",
   "execution_count": 4,
   "metadata": {},
   "outputs": [
    {
     "ename": "ValueError",
     "evalue": "jq: error: syntax error, unexpected ':', expecting end of file (Windows cmd shell quoting issues?) at <top-level>, line 1:\nC:\\Users\\CHIRAG CHAWLA\\Documents\\SOP-Assistant-required_json\\SOP-Assistant-required_json\\required_master.json \njq: 1 compile error",
     "output_type": "error",
     "traceback": [
      "\u001b[1;31m---------------------------------------------------------------------------\u001b[0m",
      "\u001b[1;31mValueError\u001b[0m                                Traceback (most recent call last)",
      "Cell \u001b[1;32mIn[4], line 1\u001b[0m\n\u001b[1;32m----> 1\u001b[0m loader \u001b[38;5;241m=\u001b[39m \u001b[43mJSONLoader\u001b[49m\u001b[43m(\u001b[49m\n\u001b[0;32m      2\u001b[0m \u001b[43m    \u001b[49m\u001b[43mfile_path\u001b[49m\u001b[38;5;241;43m=\u001b[39;49m\u001b[38;5;124;43mr\u001b[39;49m\u001b[38;5;124;43m\"\u001b[39;49m\u001b[38;5;124;43mC:\u001b[39;49m\u001b[38;5;124;43m\\\u001b[39;49m\u001b[38;5;124;43mUsers\u001b[39;49m\u001b[38;5;124;43m\\\u001b[39;49m\u001b[38;5;124;43mCHIRAG CHAWLA\u001b[39;49m\u001b[38;5;124;43m\\\u001b[39;49m\u001b[38;5;124;43mDocuments\u001b[39;49m\u001b[38;5;124;43m\\\u001b[39;49m\u001b[38;5;124;43mSOP-Assistant-required_json\u001b[39;49m\u001b[38;5;124;43m\\\u001b[39;49m\u001b[38;5;124;43mSOP-Assistant-required_json\u001b[39;49m\u001b[38;5;124;43m\\\u001b[39;49m\u001b[38;5;124;43mLorazepam.json\u001b[39;49m\u001b[38;5;124;43m\"\u001b[39;49m\u001b[43m,\u001b[49m\u001b[43m  \u001b[49m\u001b[38;5;66;43;03m# Path to your JSON file\u001b[39;49;00m\n\u001b[0;32m      3\u001b[0m \u001b[43m    \u001b[49m\u001b[43mjq_schema\u001b[49m\u001b[38;5;241;43m=\u001b[39;49m\u001b[38;5;124;43mr\u001b[39;49m\u001b[38;5;124;43m\"\u001b[39;49m\u001b[38;5;124;43mC:\u001b[39;49m\u001b[38;5;124;43m\\\u001b[39;49m\u001b[38;5;124;43mUsers\u001b[39;49m\u001b[38;5;124;43m\\\u001b[39;49m\u001b[38;5;124;43mCHIRAG CHAWLA\u001b[39;49m\u001b[38;5;124;43m\\\u001b[39;49m\u001b[38;5;124;43mDocuments\u001b[39;49m\u001b[38;5;124;43m\\\u001b[39;49m\u001b[38;5;124;43mSOP-Assistant-required_json\u001b[39;49m\u001b[38;5;124;43m\\\u001b[39;49m\u001b[38;5;124;43mSOP-Assistant-required_json\u001b[39;49m\u001b[38;5;124;43m\\\u001b[39;49m\u001b[38;5;124;43mrequired_master.json\u001b[39;49m\u001b[38;5;124;43m\"\u001b[39;49m\u001b[43m,\u001b[49m\u001b[43m  \u001b[49m\u001b[38;5;66;43;03m# Path to your schema\u001b[39;49;00m\n\u001b[0;32m      4\u001b[0m \u001b[43m    \u001b[49m\u001b[43mcontent_key\u001b[49m\u001b[38;5;241;43m=\u001b[39;49m\u001b[38;5;124;43m'\u001b[39;49m\u001b[38;5;124;43msender_name\u001b[39;49m\u001b[38;5;124;43m'\u001b[39;49m\u001b[43m,\u001b[49m\u001b[43m  \u001b[49m\u001b[38;5;66;43;03m# Adjust this key based on your JSON structure\u001b[39;49;00m\n\u001b[0;32m      5\u001b[0m \u001b[43m    \u001b[49m\u001b[43mjson_lines\u001b[49m\u001b[38;5;241;43m=\u001b[39;49m\u001b[38;5;28;43;01mFalse\u001b[39;49;00m\u001b[43m  \u001b[49m\u001b[38;5;66;43;03m# Set this to False if it's not a JSONL file\u001b[39;49;00m\n\u001b[0;32m      6\u001b[0m \u001b[43m)\u001b[49m\n\u001b[0;32m      8\u001b[0m data \u001b[38;5;241m=\u001b[39m loader\u001b[38;5;241m.\u001b[39mload()\n",
      "File \u001b[1;32mc:\\Users\\CHIRAG CHAWLA\\AppData\\Local\\Programs\\Python\\Python312\\Lib\\site-packages\\langchain_community\\document_loaders\\json_loader.py:127\u001b[0m, in \u001b[0;36mJSONLoader.__init__\u001b[1;34m(self, file_path, jq_schema, content_key, is_content_key_jq_parsable, metadata_func, text_content, json_lines)\u001b[0m\n\u001b[0;32m    122\u001b[0m     \u001b[38;5;28;01mraise\u001b[39;00m \u001b[38;5;167;01mImportError\u001b[39;00m(\n\u001b[0;32m    123\u001b[0m         \u001b[38;5;124m\"\u001b[39m\u001b[38;5;124mjq package not found, please install it with `pip install jq`\u001b[39m\u001b[38;5;124m\"\u001b[39m\n\u001b[0;32m    124\u001b[0m     )\n\u001b[0;32m    126\u001b[0m \u001b[38;5;28mself\u001b[39m\u001b[38;5;241m.\u001b[39mfile_path \u001b[38;5;241m=\u001b[39m Path(file_path)\u001b[38;5;241m.\u001b[39mresolve()\n\u001b[1;32m--> 127\u001b[0m \u001b[38;5;28mself\u001b[39m\u001b[38;5;241m.\u001b[39m_jq_schema \u001b[38;5;241m=\u001b[39m \u001b[43mjq\u001b[49m\u001b[38;5;241;43m.\u001b[39;49m\u001b[43mcompile\u001b[49m\u001b[43m(\u001b[49m\u001b[43mjq_schema\u001b[49m\u001b[43m)\u001b[49m\n\u001b[0;32m    128\u001b[0m \u001b[38;5;28mself\u001b[39m\u001b[38;5;241m.\u001b[39m_is_content_key_jq_parsable \u001b[38;5;241m=\u001b[39m is_content_key_jq_parsable\n\u001b[0;32m    129\u001b[0m \u001b[38;5;28mself\u001b[39m\u001b[38;5;241m.\u001b[39m_content_key \u001b[38;5;241m=\u001b[39m content_key\n",
      "File \u001b[1;32mjq.pyx:136\u001b[0m, in \u001b[0;36mjq.compile\u001b[1;34m()\u001b[0m\n",
      "File \u001b[1;32mjq.pyx:253\u001b[0m, in \u001b[0;36mjq._Program.__cinit__\u001b[1;34m()\u001b[0m\n",
      "File \u001b[1;32mjq.pyx:224\u001b[0m, in \u001b[0;36mjq._JqStatePool.__cinit__\u001b[1;34m()\u001b[0m\n",
      "File \u001b[1;32mjq.pyx:170\u001b[0m, in \u001b[0;36mjq._compile\u001b[1;34m()\u001b[0m\n",
      "File \u001b[1;32mjq.pyx:153\u001b[0m, in \u001b[0;36mjq._compile\u001b[1;34m()\u001b[0m\n",
      "File \u001b[1;32mjq.pyx:164\u001b[0m, in \u001b[0;36mjq._compile\u001b[1;34m()\u001b[0m\n",
      "\u001b[1;31mValueError\u001b[0m: jq: error: syntax error, unexpected ':', expecting end of file (Windows cmd shell quoting issues?) at <top-level>, line 1:\nC:\\Users\\CHIRAG CHAWLA\\Documents\\SOP-Assistant-required_json\\SOP-Assistant-required_json\\required_master.json \njq: 1 compile error"
     ]
    }
   ],
   "source": [
    "loader = JSONLoader(\n",
    "    file_path=r\"C:\\Users\\CHIRAG CHAWLA\\Documents\\SOP-Assistant-required_json\\SOP-Assistant-required_json\\Lorazepam.json\",  # Path to your JSON file\n",
    "    jq_schema=r\"C:\\Users\\CHIRAG CHAWLA\\Documents\\SOP-Assistant-required_json\\SOP-Assistant-required_json\\required_master.json\",  # Path to your schema\n",
    "    content_key='sender_name',  # Adjust this key based on your JSON structure\n",
    "    json_lines=False  # Set this to False if it's not a JSONL file\n",
    ")\n",
    "\n",
    "data = loader.load()\n"
   ]
  },
  {
   "cell_type": "code",
   "execution_count": 8,
   "metadata": {},
   "outputs": [
    {
     "ename": "ValueError",
     "evalue": "Cannot iterate over null (null)",
     "output_type": "error",
     "traceback": [
      "\u001b[1;31m---------------------------------------------------------------------------\u001b[0m",
      "\u001b[1;31mValueError\u001b[0m                                Traceback (most recent call last)",
      "Cell \u001b[1;32mIn[8], line 6\u001b[0m\n\u001b[0;32m      1\u001b[0m loader \u001b[38;5;241m=\u001b[39m JSONLoader(\n\u001b[0;32m      2\u001b[0m     file_path\u001b[38;5;241m=\u001b[39m\u001b[38;5;124mr\u001b[39m\u001b[38;5;124m\"\u001b[39m\u001b[38;5;124mC:\u001b[39m\u001b[38;5;124m\\\u001b[39m\u001b[38;5;124mUsers\u001b[39m\u001b[38;5;124m\\\u001b[39m\u001b[38;5;124mCHIRAG CHAWLA\u001b[39m\u001b[38;5;124m\\\u001b[39m\u001b[38;5;124mDocuments\u001b[39m\u001b[38;5;124m\\\u001b[39m\u001b[38;5;124mSOP-Assistant-required_json\u001b[39m\u001b[38;5;124m\\\u001b[39m\u001b[38;5;124mSOP-Assistant-required_json\u001b[39m\u001b[38;5;124m\\\u001b[39m\u001b[38;5;124mLorazepam.json\u001b[39m\u001b[38;5;124m\"\u001b[39m,  \u001b[38;5;66;03m# Path to your JSON file\u001b[39;00m\n\u001b[0;32m      3\u001b[0m     jq_schema\u001b[38;5;241m=\u001b[39m\u001b[38;5;124m'\u001b[39m\u001b[38;5;124m.messages[].content\u001b[39m\u001b[38;5;124m'\u001b[39m,\n\u001b[0;32m      4\u001b[0m     text_content\u001b[38;5;241m=\u001b[39m\u001b[38;5;28;01mFalse\u001b[39;00m)\n\u001b[1;32m----> 6\u001b[0m data \u001b[38;5;241m=\u001b[39m \u001b[43mloader\u001b[49m\u001b[38;5;241;43m.\u001b[39;49m\u001b[43mload\u001b[49m\u001b[43m(\u001b[49m\u001b[43m)\u001b[49m\n",
      "File \u001b[1;32mc:\\Users\\CHIRAG CHAWLA\\AppData\\Local\\Programs\\Python\\Python312\\Lib\\site-packages\\langchain_core\\document_loaders\\base.py:31\u001b[0m, in \u001b[0;36mBaseLoader.load\u001b[1;34m(self)\u001b[0m\n\u001b[0;32m     29\u001b[0m \u001b[38;5;28;01mdef\u001b[39;00m \u001b[38;5;21mload\u001b[39m(\u001b[38;5;28mself\u001b[39m) \u001b[38;5;241m-\u001b[39m\u001b[38;5;241m>\u001b[39m \u001b[38;5;28mlist\u001b[39m[Document]:\n\u001b[0;32m     30\u001b[0m \u001b[38;5;250m    \u001b[39m\u001b[38;5;124;03m\"\"\"Load data into Document objects.\"\"\"\u001b[39;00m\n\u001b[1;32m---> 31\u001b[0m     \u001b[38;5;28;01mreturn\u001b[39;00m \u001b[38;5;28;43mlist\u001b[39;49m\u001b[43m(\u001b[49m\u001b[38;5;28;43mself\u001b[39;49m\u001b[38;5;241;43m.\u001b[39;49m\u001b[43mlazy_load\u001b[49m\u001b[43m(\u001b[49m\u001b[43m)\u001b[49m\u001b[43m)\u001b[49m\n",
      "File \u001b[1;32mc:\\Users\\CHIRAG CHAWLA\\AppData\\Local\\Programs\\Python\\Python312\\Lib\\site-packages\\langchain_community\\document_loaders\\json_loader.py:146\u001b[0m, in \u001b[0;36mJSONLoader.lazy_load\u001b[1;34m(self)\u001b[0m\n\u001b[0;32m    144\u001b[0m                     index \u001b[38;5;241m+\u001b[39m\u001b[38;5;241m=\u001b[39m \u001b[38;5;241m1\u001b[39m\n\u001b[0;32m    145\u001b[0m \u001b[38;5;28;01melse\u001b[39;00m:\n\u001b[1;32m--> 146\u001b[0m \u001b[43m    \u001b[49m\u001b[38;5;28;43;01mfor\u001b[39;49;00m\u001b[43m \u001b[49m\u001b[43mdoc\u001b[49m\u001b[43m \u001b[49m\u001b[38;5;129;43;01min\u001b[39;49;00m\u001b[43m \u001b[49m\u001b[38;5;28;43mself\u001b[39;49m\u001b[38;5;241;43m.\u001b[39;49m\u001b[43m_parse\u001b[49m\u001b[43m(\u001b[49m\u001b[38;5;28;43mself\u001b[39;49m\u001b[38;5;241;43m.\u001b[39;49m\u001b[43mfile_path\u001b[49m\u001b[38;5;241;43m.\u001b[39;49m\u001b[43mread_text\u001b[49m\u001b[43m(\u001b[49m\u001b[43mencoding\u001b[49m\u001b[38;5;241;43m=\u001b[39;49m\u001b[38;5;124;43m\"\u001b[39;49m\u001b[38;5;124;43mutf-8\u001b[39;49m\u001b[38;5;124;43m\"\u001b[39;49m\u001b[43m)\u001b[49m\u001b[43m,\u001b[49m\u001b[43m \u001b[49m\u001b[43mindex\u001b[49m\u001b[43m)\u001b[49m\u001b[43m:\u001b[49m\n\u001b[0;32m    147\u001b[0m \u001b[43m        \u001b[49m\u001b[38;5;28;43;01myield\u001b[39;49;00m\u001b[43m \u001b[49m\u001b[43mdoc\u001b[49m\n\u001b[0;32m    148\u001b[0m \u001b[43m        \u001b[49m\u001b[43mindex\u001b[49m\u001b[43m \u001b[49m\u001b[38;5;241;43m+\u001b[39;49m\u001b[38;5;241;43m=\u001b[39;49m\u001b[43m \u001b[49m\u001b[38;5;241;43m1\u001b[39;49m\n",
      "File \u001b[1;32mc:\\Users\\CHIRAG CHAWLA\\AppData\\Local\\Programs\\Python\\Python312\\Lib\\site-packages\\langchain_community\\document_loaders\\json_loader.py:162\u001b[0m, in \u001b[0;36mJSONLoader._parse\u001b[1;34m(self, content, index)\u001b[0m\n\u001b[0;32m    159\u001b[0m \u001b[38;5;28;01mif\u001b[39;00m \u001b[38;5;28mself\u001b[39m\u001b[38;5;241m.\u001b[39m_metadata_func \u001b[38;5;129;01mis\u001b[39;00m \u001b[38;5;129;01mnot\u001b[39;00m \u001b[38;5;28;01mNone\u001b[39;00m:\n\u001b[0;32m    160\u001b[0m     \u001b[38;5;28mself\u001b[39m\u001b[38;5;241m.\u001b[39m_validate_metadata_func(data)\n\u001b[1;32m--> 162\u001b[0m \u001b[43m\u001b[49m\u001b[38;5;28;43;01mfor\u001b[39;49;00m\u001b[43m \u001b[49m\u001b[43mi\u001b[49m\u001b[43m,\u001b[49m\u001b[43m \u001b[49m\u001b[43msample\u001b[49m\u001b[43m \u001b[49m\u001b[38;5;129;43;01min\u001b[39;49;00m\u001b[43m \u001b[49m\u001b[38;5;28;43menumerate\u001b[39;49m\u001b[43m(\u001b[49m\u001b[43mdata\u001b[49m\u001b[43m,\u001b[49m\u001b[43m \u001b[49m\u001b[43mindex\u001b[49m\u001b[43m \u001b[49m\u001b[38;5;241;43m+\u001b[39;49m\u001b[43m \u001b[49m\u001b[38;5;241;43m1\u001b[39;49m\u001b[43m)\u001b[49m\u001b[43m:\u001b[49m\n\u001b[0;32m    163\u001b[0m \u001b[43m    \u001b[49m\u001b[43mtext\u001b[49m\u001b[43m \u001b[49m\u001b[38;5;241;43m=\u001b[39;49m\u001b[43m \u001b[49m\u001b[38;5;28;43mself\u001b[39;49m\u001b[38;5;241;43m.\u001b[39;49m\u001b[43m_get_text\u001b[49m\u001b[43m(\u001b[49m\u001b[43msample\u001b[49m\u001b[38;5;241;43m=\u001b[39;49m\u001b[43msample\u001b[49m\u001b[43m)\u001b[49m\n\u001b[0;32m    164\u001b[0m \u001b[43m    \u001b[49m\u001b[43mmetadata\u001b[49m\u001b[43m \u001b[49m\u001b[38;5;241;43m=\u001b[39;49m\u001b[43m \u001b[49m\u001b[38;5;28;43mself\u001b[39;49m\u001b[38;5;241;43m.\u001b[39;49m\u001b[43m_get_metadata\u001b[49m\u001b[43m(\u001b[49m\n\u001b[0;32m    165\u001b[0m \u001b[43m        \u001b[49m\u001b[43msample\u001b[49m\u001b[38;5;241;43m=\u001b[39;49m\u001b[43msample\u001b[49m\u001b[43m,\u001b[49m\u001b[43m \u001b[49m\u001b[43msource\u001b[49m\u001b[38;5;241;43m=\u001b[39;49m\u001b[38;5;28;43mstr\u001b[39;49m\u001b[43m(\u001b[49m\u001b[38;5;28;43mself\u001b[39;49m\u001b[38;5;241;43m.\u001b[39;49m\u001b[43mfile_path\u001b[49m\u001b[43m)\u001b[49m\u001b[43m,\u001b[49m\u001b[43m \u001b[49m\u001b[43mseq_num\u001b[49m\u001b[38;5;241;43m=\u001b[39;49m\u001b[43mi\u001b[49m\n\u001b[0;32m    166\u001b[0m \u001b[43m    \u001b[49m\u001b[43m)\u001b[49m\n",
      "File \u001b[1;32mjq.pyx:366\u001b[0m, in \u001b[0;36mjq._ResultIterator.__next__\u001b[1;34m()\u001b[0m\n",
      "\u001b[1;31mValueError\u001b[0m: Cannot iterate over null (null)"
     ]
    }
   ],
   "source": [
    "loader = JSONLoader(\n",
    "    file_path=r\"C:\\Users\\CHIRAG CHAWLA\\Documents\\SOP-Assistant-required_json\\SOP-Assistant-required_json\\Lorazepam.json\",  # Path to your JSON file\n",
    "    jq_schema='.messages[].content',\n",
    "    text_content=False)\n",
    "\n",
    "data = loader.load()"
   ]
  },
  {
   "cell_type": "code",
   "execution_count": 9,
   "metadata": {},
   "outputs": [
    {
     "name": "stdout",
     "output_type": "stream",
     "text": [
      "{'Formula': [{'Amount': '0.01 g', 'IngredientName': 'Lorazepam USP CIV'},\n",
      "             {'Amount': '0.125 g',\n",
      "              'IngredientName': 'Diphenhydramine Hydrochloride USP'},\n",
      "             {'Amount': '0.02 g', 'IngredientName': 'Haloperidol USP'},\n",
      "             {'Amount': '0.236 g',\n",
      "              'IngredientName': 'Metoclopramide Hydrochloride USP Monohydrate'},\n",
      "             {'Amount': '0.5 ml', 'IngredientName': 'Propylene Glycol USP'},\n",
      "             {'Amount': 'q.s. 10 ml',\n",
      "              'IngredientName': 'Base, PCCA Perme8Â® Anhydrous Gel'}],\n",
      " 'Literature': ['Samanta, M.K., Dube, R., & Suresh, B. (2003). Transdermal '\n",
      "                'drug delivery system of haloperidol to overcome self-induced '\n",
      "                'extrapyramidal syndrome. Drug Development and Industrial '\n",
      "                'Pharmacy, 29(4), 405-415. doi: 10.1081/DDC-120018376',\n",
      "                'Bleicher, J., Bhaskara, A., Huyck, T., Constantino, S., '\n",
      "                'Bardia, A., Loprinzi, C.L., & Silberstein, P.T. (2008). '\n",
      "                'Lorazepam, diphenhydramine, and haloperidol transdermal gel '\n",
      "                'for rescue from chemotherapy-induced nausea/vomiting: results '\n",
      "                'of two pilot trials. The Journal of Supportive Oncology, '\n",
      "                '6(1), 27-32.',\n",
      "                'Moon, R. B. (2006). ABHR gel in the treatment of nausea and '\n",
      "                'vomiting in the hospice patient. International Journal of '\n",
      "                'Pharmaceutical Compounding, 10(2), 95.'],\n",
      " 'Name': 'Lorazepam/Diphenhydramine/Haloperidol/Metoclopramide Topical Gel',\n",
      " 'Notes': ['Protect from light.',\n",
      "           'Store in an air-tight, light-resistant container.',\n",
      "           'Store at controlled room temperature of 20Â°-25Â°C.',\n",
      "           'Lorazepam is incompatible with certain types of plastics such as '\n",
      "           'PVC.',\n",
      "           'Keep Proper Controlled Substance Records.',\n",
      "           'For compounded preparations, USP standards dictate that the '\n",
      "           'intended strength must be +/-10% of the labeled API strength.',\n",
      "           'No claims are made as to the safety or efficacy of this '\n",
      "           'preparation.',\n",
      "           'The maximum Beyond-Use Date (BUD) after compounding is estimated '\n",
      "           'to be 180 days.',\n",
      "           \"PCCA's Blue Box Warning: This formula has been tested in the PCCA \"\n",
      "           'Lab using only PCCA chemicals and proprietary bases. Any '\n",
      "           'variations to this formulation may affect physical integrity, '\n",
      "           'solubility, or result in potency or content uniformity issues.'],\n",
      " 'Procedure': [{'Instruction': 'Using a glass mortar and pestle, triturate '\n",
      "                               'Lorazepam, Diphenhydramine Hydrochloride, '\n",
      "                               'Haloperidol, and Metoclopramide Hydrochloride '\n",
      "                               'together. Add Propylene Glycol and mix well.',\n",
      "                'Step': 1},\n",
      "               {'Instruction': 'Add PCCA PermE8 Anhydrous Gel Base to Step 1 '\n",
      "                               'in portions and mix well. Use an amount that '\n",
      "                               'is approximately 60% of the final volume. For '\n",
      "                               'example, if the final volume is 10 mL, use 6 '\n",
      "                               'mL of PCCA PermE8 Anhydrous Gel Base.',\n",
      "                'Step': 2},\n",
      "               {'Instruction': 'Remove the plunger from a Baxter Exacta-Med 10 '\n",
      "                               'mL Oral/Topical Syringe, then transfer the '\n",
      "                               'Step 2 mixture into the barrel. Replace the '\n",
      "                               'plunger into the barrel, and holding syringe '\n",
      "                               'upright, slowly push up the plunger, allowing '\n",
      "                               'the air to escape. Measure the volume in the '\n",
      "                               'syringe and calculate how much PCCA PermE8 '\n",
      "                               'Anhydrous Gel Base is needed to bring to the '\n",
      "                               'final volume.',\n",
      "                'Step': 3},\n",
      "               {'Instruction': 'In a separate Baxter Exacta-Med 10 mL '\n",
      "                               'Oral/Topical Syringe, add the required amount '\n",
      "                               'of PCCA PermE8 Anhydrous Gel Base.',\n",
      "                'Step': 4},\n",
      "               {'Instruction': 'Connect the syringe in Step 4 to the syringe '\n",
      "                               'in Step 3 using an Oral/Oral Adapter.',\n",
      "                'Step': 5},\n",
      "               {'Instruction': 'Mix Step 5 back and forth from '\n",
      "                               'syringe-to-syringe until a uniform mixture is '\n",
      "                               'formed.',\n",
      "                'Step': 6},\n",
      "               {'Instruction': 'Dispense the Step 6 final preparation in '\n",
      "                               'Baxter Exacta-Med Amber 1 mL Oral/Topical '\n",
      "                               'Syringes.',\n",
      "                'Step': 7},\n",
      "               {'Instruction': 'Physical description of this preparation: '\n",
      "                               'off-white to pale beige gel.',\n",
      "                'Step': 8}]}\n"
     ]
    }
   ],
   "source": [
    "import json\n",
    "from pathlib import Path\n",
    "from pprint import pprint\n",
    "\n",
    "# Set the file path to the Lorazepam.json file\n",
    "file_path = r\"C:\\Users\\CHIRAG CHAWLA\\Documents\\SOP-Assistant-required_json\\SOP-Assistant-required_json\\Lorazepam.json\"\n",
    "\n",
    "# Load the JSON content\n",
    "data = json.loads(Path(file_path).read_text())\n",
    "\n",
    "# Pretty print the loaded data\n",
    "pprint(data)\n"
   ]
  },
  {
   "cell_type": "code",
   "execution_count": 10,
   "metadata": {},
   "outputs": [],
   "source": [
    "loader = JSONLoader(\n",
    "    file_path=r\"C:\\Users\\CHIRAG CHAWLA\\Documents\\SOP-Assistant-required_json\\SOP-Assistant-required_json\\Lorazepam.json\",  # Path to your JSON file\n",
    "    jq_schema='.',\n",
    "    text_content=False)\n",
    "\n",
    "data = loader.load()"
   ]
  },
  {
   "cell_type": "code",
   "execution_count": 11,
   "metadata": {},
   "outputs": [
    {
     "data": {
      "text/plain": [
       "[Document(metadata={'source': 'C:\\\\Users\\\\CHIRAG CHAWLA\\\\Documents\\\\SOP-Assistant-required_json\\\\SOP-Assistant-required_json\\\\Lorazepam.json', 'seq_num': 1}, page_content='{\"Name\": \"Lorazepam/Diphenhydramine/Haloperidol/Metoclopramide Topical Gel\", \"Formula\": [{\"IngredientName\": \"Lorazepam USP CIV\", \"Amount\": \"0.01 g\"}, {\"IngredientName\": \"Diphenhydramine Hydrochloride USP\", \"Amount\": \"0.125 g\"}, {\"IngredientName\": \"Haloperidol USP\", \"Amount\": \"0.02 g\"}, {\"IngredientName\": \"Metoclopramide Hydrochloride USP Monohydrate\", \"Amount\": \"0.236 g\"}, {\"IngredientName\": \"Propylene Glycol USP\", \"Amount\": \"0.5 ml\"}, {\"IngredientName\": \"Base, PCCA Perme8\\\\u00ae Anhydrous Gel\", \"Amount\": \"q.s. 10 ml\"}], \"Procedure\": [{\"Step\": 1, \"Instruction\": \"Using a glass mortar and pestle, triturate Lorazepam, Diphenhydramine Hydrochloride, Haloperidol, and Metoclopramide Hydrochloride together. Add Propylene Glycol and mix well.\"}, {\"Step\": 2, \"Instruction\": \"Add PCCA PermE8 Anhydrous Gel Base to Step 1 in portions and mix well. Use an amount that is approximately 60% of the final volume. For example, if the final volume is 10 mL, use 6 mL of PCCA PermE8 Anhydrous Gel Base.\"}, {\"Step\": 3, \"Instruction\": \"Remove the plunger from a Baxter Exacta-Med 10 mL Oral/Topical Syringe, then transfer the Step 2 mixture into the barrel. Replace the plunger into the barrel, and holding syringe upright, slowly push up the plunger, allowing the air to escape. Measure the volume in the syringe and calculate how much PCCA PermE8 Anhydrous Gel Base is needed to bring to the final volume.\"}, {\"Step\": 4, \"Instruction\": \"In a separate Baxter Exacta-Med 10 mL Oral/Topical Syringe, add the required amount of PCCA PermE8 Anhydrous Gel Base.\"}, {\"Step\": 5, \"Instruction\": \"Connect the syringe in Step 4 to the syringe in Step 3 using an Oral/Oral Adapter.\"}, {\"Step\": 6, \"Instruction\": \"Mix Step 5 back and forth from syringe-to-syringe until a uniform mixture is formed.\"}, {\"Step\": 7, \"Instruction\": \"Dispense the Step 6 final preparation in Baxter Exacta-Med Amber 1 mL Oral/Topical Syringes.\"}, {\"Step\": 8, \"Instruction\": \"Physical description of this preparation: off-white to pale beige gel.\"}], \"Notes\": [\"Protect from light.\", \"Store in an air-tight, light-resistant container.\", \"Store at controlled room temperature of 20\\\\u00b0-25\\\\u00b0C.\", \"Lorazepam is incompatible with certain types of plastics such as PVC.\", \"Keep Proper Controlled Substance Records.\", \"For compounded preparations, USP standards dictate that the intended strength must be +/-10% of the labeled API strength.\", \"No claims are made as to the safety or efficacy of this preparation.\", \"The maximum Beyond-Use Date (BUD) after compounding is estimated to be 180 days.\", \"PCCA\\'s Blue Box Warning: This formula has been tested in the PCCA Lab using only PCCA chemicals and proprietary bases. Any variations to this formulation may affect physical integrity, solubility, or result in potency or content uniformity issues.\"], \"Literature\": [\"Samanta, M.K., Dube, R., & Suresh, B. (2003). Transdermal drug delivery system of haloperidol to overcome self-induced extrapyramidal syndrome. Drug Development and Industrial Pharmacy, 29(4), 405-415. doi: 10.1081/DDC-120018376\", \"Bleicher, J., Bhaskara, A., Huyck, T., Constantino, S., Bardia, A., Loprinzi, C.L., & Silberstein, P.T. (2008). Lorazepam, diphenhydramine, and haloperidol transdermal gel for rescue from chemotherapy-induced nausea/vomiting: results of two pilot trials. The Journal of Supportive Oncology, 6(1), 27-32.\", \"Moon, R. B. (2006). ABHR gel in the treatment of nausea and vomiting in the hospice patient. International Journal of Pharmaceutical Compounding, 10(2), 95.\"]}')]"
      ]
     },
     "execution_count": 11,
     "metadata": {},
     "output_type": "execute_result"
    }
   ],
   "source": [
    "data"
   ]
  },
  {
   "cell_type": "code",
   "execution_count": 13,
   "metadata": {},
   "outputs": [],
   "source": [
    "from langchain_openai import ChatOpenAI, OpenAIEmbeddings\n",
    "\n",
    "embedding_function = OpenAIEmbeddings()"
   ]
  },
  {
   "cell_type": "code",
   "execution_count": 14,
   "metadata": {},
   "outputs": [],
   "source": [
    "db = Chroma.from_documents(data, embedding_function)\n",
    "retriever = db.as_retriever()\n",
    "\n",
    "template = \"\"\"Answer the question based only on the following context:\n",
    "{context}\n",
    "\n",
    "Question: {question}\n",
    "\"\"\"\n",
    "prompt = ChatPromptTemplate.from_template(template)\n",
    "\n",
    "model = ChatOpenAI()\n",
    "\n",
    "chain = (\n",
    "    {\"context\": retriever, \"question\": RunnablePassthrough()}\n",
    "    | prompt\n",
    "    | model\n",
    "    | StrOutputParser()\n",
    ")"
   ]
  },
  {
   "cell_type": "code",
   "execution_count": 15,
   "metadata": {},
   "outputs": [
    {
     "name": "stderr",
     "output_type": "stream",
     "text": [
      "Number of requested results 4 is greater than number of elements in index 1, updating n_results = 1\n"
     ]
    },
    {
     "name": "stdout",
     "output_type": "stream",
     "text": [
      "The precautions for this mechanism include protecting the preparation from light, storing it in an air-tight, light-resistant container at a controlled room temperature of 20-25°C, avoiding certain types of plastics such as PVC due to incompatibility with Lorazepam, keeping proper controlled substance records, ensuring the intended strength is within +/-10% of the labeled API strength as per USP standards, and being aware that any variations to the formulation may affect physical integrity, solubility, potency, or content uniformity.\n"
     ]
    }
   ],
   "source": [
    "query = \"Wprecaustions for this mechanism\"\n",
    "print(chain.invoke(query))"
   ]
  },
  {
   "cell_type": "code",
   "execution_count": null,
   "metadata": {},
   "outputs": [],
   "source": []
  }
 ],
 "metadata": {
  "kernelspec": {
   "display_name": "Python 3",
   "language": "python",
   "name": "python3"
  },
  "language_info": {
   "codemirror_mode": {
    "name": "ipython",
    "version": 3
   },
   "file_extension": ".py",
   "mimetype": "text/x-python",
   "name": "python",
   "nbconvert_exporter": "python",
   "pygments_lexer": "ipython3",
   "version": "3.12.6"
  }
 },
 "nbformat": 4,
 "nbformat_minor": 2
}
